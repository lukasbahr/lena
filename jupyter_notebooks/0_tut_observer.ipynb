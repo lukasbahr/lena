{
 "metadata": {
  "language_info": {
   "codemirror_mode": {
    "name": "ipython",
    "version": 3
   },
   "file_extension": ".py",
   "mimetype": "text/x-python",
   "name": "python",
   "nbconvert_exporter": "python",
   "pygments_lexer": "ipython3",
   "version": "3.8.8"
  },
  "orig_nbformat": 4,
  "kernelspec": {
   "name": "python3",
   "display_name": "Python 3.8.8 64-bit ('cas': conda)"
  },
  "interpreter": {
   "hash": "876800e5f4140bb8c9eb7cb3630e01ad622f0981781552d39a63585948556d04"
  }
 },
 "nbformat": 4,
 "nbformat_minor": 2,
 "cells": [
  {
   "cell_type": "code",
   "execution_count": null,
   "metadata": {},
   "outputs": [],
   "source": [
    "!pip3 install git+https://github.com/lukasbahr/lena.git gwpy &> /dev/null\n",
    "!pip3 install git+https://github.com/aliutkus/torchinterp1d.git gwpy &> /dev/null"
   ]
  },
  {
   "cell_type": "code",
   "execution_count": null,
   "metadata": {},
   "outputs": [],
   "source": [
    "import sys ; sys.path.append('../')\n",
    "from lena.observer.lueneberger import LuenebergerObserver\n",
    "import lena.util.plot as plot\n",
    "import torch\n",
    "import math\n",
    "from scipy import signal\n",
    "import matplotlib.pyplot as plt\n",
    "import numpy as np"
   ]
  },
  {
   "cell_type": "code",
   "execution_count": null,
   "metadata": {},
   "outputs": [],
   "source": [
    "def getAutonomousSystem():\n",
    "    # Define plant dynamics\n",
    "    def f(x): return torch.cat((torch.reshape(torch.pow(x[1, :], 3), (1, -1)), torch.reshape(-x[0, :], (1, -1))), 0)\n",
    "    def h(x): return torch.reshape(x[0, :], (1, -1))\n",
    "    def g(x): return torch.zeros(x.shape[0], x.shape[1])\n",
    "    def u(t): return 0\n",
    "\n",
    "    # System dimension\n",
    "    dim_x = 2\n",
    "    dim_y = 1\n",
    "\n",
    "    return f, h, g, u, dim_x, dim_y"
   ]
  },
  {
   "cell_type": "code",
   "execution_count": null,
   "metadata": {},
   "outputs": [],
   "source": [
    "# Get system\n",
    "f, h, g, u, dim_x, dim_y = getAutonomousSystem()"
   ]
  },
  {
   "cell_type": "code",
   "execution_count": null,
   "metadata": {},
   "outputs": [],
   "source": [
    "# Setting up the Lueneberge observer\n",
    "\n",
    "# Create Lueneberger observer\n",
    "observer = LuenebergerObserver(dim_x, dim_y)\n",
    "\n",
    "# Set observer functions\n",
    "observer.f = f\n",
    "observer.h = h\n",
    "observer.g = g\n",
    "observer.u = u\n",
    "\n",
    "# Create eigenvalues for D from bessel filter\n",
    "b, a = signal.bessel(3, 2*math.pi, 'low', analog=True, norm='phase')\n",
    "eigen = np.roots(a)\n",
    "\n",
    "# Set system dynamics of D and F\n",
    "observer.D = observer.tensorDFromEigen(eigen)\n",
    "observer.F = torch.Tensor([[1.0], [1.0], [1.0]])"
   ]
  },
  {
   "cell_type": "code",
   "execution_count": null,
   "metadata": {},
   "outputs": [],
   "source": [
    "# Simulate sytem for a random initial condition\n",
    "\n",
    "# Create initial value\n",
    "y_0 = torch.tensor([[0.4,0.5,0,0,0]]).T\n",
    "\n",
    "# Simulate forward in time starting from the last point from previous simulation\n",
    "tsim = (0,20)\n",
    "dt = 1e-2\n",
    "tq_, data_ = observer.simulateSystem(y_0, tsim, dt)"
   ]
  },
  {
   "cell_type": "code",
   "execution_count": null,
   "metadata": {},
   "outputs": [],
   "source": [
    "# Plot the simulated system\n",
    "fig = plt.figure(dpi=100)\n",
    "\n",
    "# Plot x\n",
    "ax_x = fig.add_subplot(2, 1, 1)\n",
    "ax_x.set_ylabel(r'$x$')\n",
    "ax_x.set_xlabel('time' + r'$[s]$')\n",
    "ax_x.plot(tq_, data_[:,:dim_x,0], color='blue', label='x')\n",
    "\n",
    "# Plot z\n",
    "ax_z = fig.add_subplot(2,1,2)\n",
    "ax_z.set_ylabel(r'$z$')\n",
    "ax_z.set_xlabel('time' + r'$[s]$')\n",
    "ax_z.plot(tq_, data_[:,dim_x:,0])\n",
    "\n",
    "plt.show()"
   ]
  },
  {
   "cell_type": "code",
   "execution_count": null,
   "metadata": {},
   "outputs": [],
   "source": []
  }
 ]
}