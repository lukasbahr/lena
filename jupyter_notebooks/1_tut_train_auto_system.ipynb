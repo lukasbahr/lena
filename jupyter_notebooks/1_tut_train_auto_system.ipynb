{
 "metadata": {
  "language_info": {
   "codemirror_mode": {
    "name": "ipython",
    "version": 3
   },
   "file_extension": ".py",
   "mimetype": "text/x-python",
   "name": "python",
   "nbconvert_exporter": "python",
   "pygments_lexer": "ipython3",
   "version": "3.8.8"
  },
  "orig_nbformat": 2,
  "kernelspec": {
   "name": "python3",
   "display_name": "Python 3.8.8 64-bit ('cas': conda)"
  },
  "interpreter": {
   "hash": "876800e5f4140bb8c9eb7cb3630e01ad622f0981781552d39a63585948556d04"
  }
 },
 "nbformat": 4,
 "nbformat_minor": 2,
 "cells": [
  {
   "cell_type": "code",
   "execution_count": null,
   "metadata": {},
   "outputs": [],
   "source": [
    "!pip3 install git+https://github.com/lukasbahr/lena.git gwpy &> /dev/null\n",
    "!pip3 install git+https://github.com/aliutkus/torchinterp1d.git gwpy &> /dev/null"
   ]
  },
  {
   "cell_type": "code",
   "execution_count": null,
   "metadata": {},
   "outputs": [],
   "source": [
    "%load_ext tensorboard"
   ]
  },
  {
   "cell_type": "code",
   "execution_count": 1,
   "metadata": {},
   "outputs": [],
   "source": [
    "import sys ; sys.path.append('../')\n",
    "from lena.net.train import train\n",
    "from lena.net.helperfnc import generateTrainingData\n",
    "from lena.datasets.exampleSystems import createDefaultObserver\n",
    "import torch\n",
    "import numpy as np"
   ]
  },
  {
   "cell_type": "code",
   "execution_count": null,
   "metadata": {},
   "outputs": [],
   "source": [
    "# Create params dict\n",
    "params = {}\n",
    "\n",
    "# Params specifying the autoencoder\n",
    "params['model'] = {}\n",
    "params['model']['batch_size'] = 4\n",
    "params['model']['epochs'] = 100\n",
    "params['model']['num_hlayers'] = 5\n",
    "params['model']['size_hlayers'] = 25\n",
    "params['model']['activation'] = 'tanh'\n",
    "params['model']['recon_lambda'] = 1.1\n",
    "params['model']['lr'] = 0.001\n",
    "params['model']['lr_milestones'] = [8,16,32]\n",
    "params['model']['lr_gamma'] = 0.9\n",
    "params['model']['is_tensorboard'] = True\n",
    "params['model']['shuffle'] = False\n",
    "params['model']['experiment'] = 'autonomous'\n",
    "\n",
    "params['system'] = {}\n",
    "params['system']['name'] = 'van_der_pohl'\n",
    "params['system']['experiment'] = 'autonomous'\n",
    "\n",
    "params['data'] = {}\n",
    "params['data']['simulation_step'] = .01\n",
    "params['data']['type'] = 'pairs'\n",
    "params['data']['sampling'] = 'uniform'\n",
    "params['data']['lhs_limits'] = [-1.,1.]\n",
    "params['data']['lhs_samples'] = 5000\n",
    "params['data']['grid_size'] = [-0.8,0.8]\n",
    "params['data']['grid_step'] = .01\n",
    "params['data']['experiment'] = 'autonomous'"
   ]
  },
  {
   "cell_type": "code",
   "execution_count": null,
   "metadata": {},
   "outputs": [],
   "source": [
    "# Create Lueneberger observer for a autonomous system\n",
    "observer = createDefaultObserver(params['system'])"
   ]
  },
  {
   "cell_type": "code",
   "execution_count": null,
   "metadata": {},
   "outputs": [],
   "source": [
    "# Generate data for training the autoencoder\n",
    "data = generateTrainingData(observer, params['data'])"
   ]
  },
  {
   "cell_type": "code",
   "execution_count": null,
   "metadata": {},
   "outputs": [],
   "source": [
    "# Train the model\n",
    "model = train(data, observer, params['model'])"
   ]
  },
  {
   "cell_type": "code",
   "execution_count": null,
   "metadata": {},
   "outputs": [],
   "source": [
    "%tensorboard --logdir=runs"
   ]
  }
 ]
}